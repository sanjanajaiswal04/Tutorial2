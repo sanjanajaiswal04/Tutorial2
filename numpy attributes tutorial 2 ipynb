{
 "cells": [
  {
   "cell_type": "code",
   "execution_count": 1,
   "id": "f7a218cd-a078-48c6-94d0-705ff1301d47",
   "metadata": {},
   "outputs": [
    {
     "data": {
      "text/plain": [
       "  C_CONTIGUOUS : True\n",
       "  F_CONTIGUOUS : False\n",
       "  OWNDATA : True\n",
       "  WRITEABLE : True\n",
       "  ALIGNED : True\n",
       "  WRITEBACKIFCOPY : False"
      ]
     },
     "execution_count": 1,
     "metadata": {},
     "output_type": "execute_result"
    }
   ],
   "source": [
    "import numpy as np\n",
    "a=np.array([[1,0,2],[2,1,1],[3,0,3]])\n",
    "b=np.array([[2,2,0],[1,0,1],[0,1,0]])\n",
    "b.flags"
   ]
  },
  {
   "cell_type": "code",
   "execution_count": 3,
   "id": "c47d1259-ffcb-4923-aa35-92cfd05b2cf4",
   "metadata": {},
   "outputs": [
    {
     "data": {
      "text/plain": [
       "(3, 3)"
      ]
     },
     "execution_count": 3,
     "metadata": {},
     "output_type": "execute_result"
    }
   ],
   "source": [
    "import numpy as np\n",
    "a=np.array([[1,0,2],[2,1,1],[3,0,3]])\n",
    "b=np.array([[2,2,0],[1,0,1],[0,1,0]])\n",
    "b.shape"
   ]
  },
  {
   "cell_type": "code",
   "execution_count": 5,
   "id": "3dbd1f6c-e6a1-4559-ba37-40817b487630",
   "metadata": {},
   "outputs": [
    {
     "data": {
      "text/plain": [
       "9"
      ]
     },
     "execution_count": 5,
     "metadata": {},
     "output_type": "execute_result"
    }
   ],
   "source": [
    "import numpy as np\n",
    "a=np.array([[1,0,2],[2,1,1],[3,0,3]])\n",
    "b=np.array([[2,2,0],[1,0,1],[0,1,0]])\n",
    "b.size"
   ]
  },
  {
   "cell_type": "code",
   "execution_count": 7,
   "id": "b00de421-4c00-4ef6-aa8b-59b7c7df2b47",
   "metadata": {},
   "outputs": [
    {
     "data": {
      "text/plain": [
       "2"
      ]
     },
     "execution_count": 7,
     "metadata": {},
     "output_type": "execute_result"
    }
   ],
   "source": [
    "import numpy as np\n",
    "a=np.array([[1,0,2],[2,1,1],[3,0,3]])\n",
    "b=np.array([[2,2,0],[1,0,1],[0,1,0]])\n",
    "b.ndim"
   ]
  },
  {
   "cell_type": "code",
   "execution_count": 9,
   "id": "4c359e1b-473e-4ff6-998a-e5d454bbface",
   "metadata": {},
   "outputs": [
    {
     "data": {
      "text/plain": [
       "<memory at 0x0000010AB955BAC0>"
      ]
     },
     "execution_count": 9,
     "metadata": {},
     "output_type": "execute_result"
    }
   ],
   "source": [
    "import numpy as np\n",
    "a=np.array([[1,0,2],[2,1,1],[3,0,3]])\n",
    "b=np.array([[2,2,0],[1,0,1],[0,1,0]])\n",
    "b.data"
   ]
  },
  {
   "cell_type": "code",
   "execution_count": 11,
   "id": "041d751a-f7c4-46f7-8f88-b0db9bfdc04f",
   "metadata": {},
   "outputs": [
    {
     "data": {
      "text/plain": [
       "4"
      ]
     },
     "execution_count": 11,
     "metadata": {},
     "output_type": "execute_result"
    }
   ],
   "source": [
    "import numpy as np\n",
    "a=np.array([[1,0,2],[2,1,1],[3,0,3]])\n",
    "b=np.array([[2,2,0],[1,0,1],[0,1,0]])\n",
    "b.itemsize"
   ]
  },
  {
   "cell_type": "code",
   "execution_count": 13,
   "id": "5fd67f7f-75c4-4159-8508-89b902f2d34a",
   "metadata": {},
   "outputs": [
    {
     "data": {
      "text/plain": [
       "36"
      ]
     },
     "execution_count": 13,
     "metadata": {},
     "output_type": "execute_result"
    }
   ],
   "source": [
    "import numpy as np\n",
    "a=np.array([[1,0,2],[2,1,1],[3,0,3]])\n",
    "b=np.array([[2,2,0],[1,0,1],[0,1,0]])\n",
    "b.nbytes"
   ]
  },
  {
   "cell_type": "code",
   "execution_count": 15,
   "id": "ca5ab75a-2ed7-4a89-878d-4a492d91a432",
   "metadata": {},
   "outputs": [
    {
     "data": {
      "text/plain": [
       "array([[0, 0, 0],\n",
       "       [0, 0, 0],\n",
       "       [0, 0, 0]])"
      ]
     },
     "execution_count": 15,
     "metadata": {},
     "output_type": "execute_result"
    }
   ],
   "source": [
    "import numpy as np\n",
    "a=np.array([[1,0,2],[2,1,1],[3,0,3]])\n",
    "b=np.array([[2,2,0],[1,0,1],[0,1,0]])\n",
    "b.imag"
   ]
  },
  {
   "cell_type": "code",
   "execution_count": 17,
   "id": "0c1da139-fef1-40d4-9b69-0a130a46c84c",
   "metadata": {},
   "outputs": [
    {
     "data": {
      "text/plain": [
       "(12, 4)"
      ]
     },
     "execution_count": 17,
     "metadata": {},
     "output_type": "execute_result"
    }
   ],
   "source": [
    "import numpy as np\n",
    "a=np.array([[1,0,2],[2,1,1],[3,0,3]])\n",
    "b=np.array([[2,2,0],[1,0,1],[0,1,0]])\n",
    "b.strides"
   ]
  },
  {
   "cell_type": "code",
   "execution_count": null,
   "id": "ca0bde13-3f8f-47c6-a008-729b3abebbac",
   "metadata": {},
   "outputs": [],
   "source": []
  }
 ],
 "metadata": {
  "kernelspec": {
   "display_name": "Python 3 (ipykernel)",
   "language": "python",
   "name": "python3"
  },
  "language_info": {
   "codemirror_mode": {
    "name": "ipython",
    "version": 3
   },
   "file_extension": ".py",
   "mimetype": "text/x-python",
   "name": "python",
   "nbconvert_exporter": "python",
   "pygments_lexer": "ipython3",
   "version": "3.12.4"
  }
 },
 "nbformat": 4,
 "nbformat_minor": 5
}
